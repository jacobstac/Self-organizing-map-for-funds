{
 "cells": [
  {
   "cell_type": "markdown",
   "metadata": {},
   "source": [
    "## Som ##\n",
    "##### Topological orering of funds #####\n"
   ]
  },
  {
   "cell_type": "raw",
   "metadata": {},
   "source": [
    "import numpy as np\n",
    "from scipy import signal\n",
    "import math\n",
    "import matplotlib.pyplot as plt"
   ]
  },
  {
   "cell_type": "code",
   "execution_count": 6,
   "metadata": {},
   "outputs": [
    {
     "name": "stdout",
     "output_type": "stream",
     "text": [
      "Öhman Global Growth\n",
      "Swedbank Robur Ny Teknik A\n",
      "Handelsbanken Hållbar Energi A1 SEK\n",
      "Swedbank Robur Transition Energy A\n",
      "Thematica – Future Mobility Retl SEK Acc\n",
      "Proethos Fond\n",
      "Allianz Global Artfcl Intlgc AT EUR\n",
      "AuAg Silver Bullet A\n",
      "BGF Next Generation Technology A2 USD\n",
      "MS INVF US Growth A\n",
      "MS INVF Global Advantage A\n",
      "Enter Småbolagsfond A\n",
      "MS INVF US Advantage A\n",
      "Franklin Technology A Acc USD\n",
      "SPP Global Solutions A\n"
     ]
    }
   ],
   "source": [
    "import numpy as np\n",
    "\n",
    "class SOMNetwork:\n",
    "    \n",
    "    def __init__(self, n=100, epochs = 50, eta=9, hood = 50):\n",
    "        self.W = np.random.rand(n,210)\n",
    "        self.n = n\n",
    "        self.epochs = epochs\n",
    "        self.eta = eta\n",
    "        self.hood = hood\n",
    "        self.props = np.reshape(np.loadtxt( 'funds.dat', delimiter=','), (-1, 210))\n",
    "        self.fundnames = np.char.strip(np.loadtxt( 'fundnames.txt', delimiter='\\t\\n', dtype=str), '\\'\\t')\n",
    "        self.nums = self.props.shape[0]\n",
    "    \n",
    "    \n",
    "    def min_distance(self, fund):\n",
    "        dist = np.zeros(100)\n",
    "        for i in range(100):\n",
    "            dist[i] = np.linalg.norm(fund - self.W[i])\n",
    "        return np.argmin(dist)\n",
    "    \n",
    "    \n",
    "    def modify_weights(self, index, fund, epoch):\n",
    "        radius = int((self.hood/2 - epoch))\n",
    "        radius = radius if radius > 0 else 0\n",
    "        self.W[index,:] += self.eta*(fund - self.W[index,:])\n",
    "        for i in range(radius):\n",
    "            proximity = (radius - (i/radius)*radius)/radius\n",
    "            lower  = index-1-i\n",
    "            higher = index+1+i\n",
    "            if(lower>=0):\n",
    "                self.W[lower,:] += (self.eta*(fund - self.W[lower,:]))\n",
    "            if(higher<self.n):\n",
    "                self.W[higher,:] += (self.eta*(fund - self.W[higher,:]))\n",
    "        \n",
    "        \n",
    "    def train(self):\n",
    "        for i in range(self.epochs):\n",
    "            for j in range(self.nums):\n",
    "                fund = self.props[j]\n",
    "                best = self.min_distance(fund)\n",
    "                self.modify_weights(best, fund, i)\n",
    "    \n",
    "    \n",
    "    def output(self):\n",
    "        out = []\n",
    "        for i in range(self.nums):\n",
    "            out.append((self.min_distance(self.props[i]), self.fundnames[i]))\n",
    "        \n",
    "        out = sorted(out, key=lambda tup: tup[0])\n",
    "        for i in range(self.nums):\n",
    "            print(out[i][1])\n",
    "            \n",
    "             \n",
    "network = SOMNetwork()              \n",
    "#print('Props:' , network.props.shape)\n",
    "#print('W:    ', network.W.shape)\n",
    "#print('W[:,1]:    ', len(network.W[1,:]))\n",
    "#print('nums:    ', network.nums)\n",
    "#print('n:    ', network.n)\n",
    "\n",
    "network.train()\n",
    "network.output()\n"
   ]
  }
 ],
 "metadata": {
  "kernelspec": {
   "display_name": "Python 3",
   "language": "python",
   "name": "python3"
  },
  "language_info": {
   "codemirror_mode": {
    "name": "ipython",
    "version": 3
   },
   "file_extension": ".py",
   "mimetype": "text/x-python",
   "name": "python",
   "nbconvert_exporter": "python",
   "pygments_lexer": "ipython3",
   "version": "3.7.9"
  },
  "varInspector": {
   "cols": {
    "lenName": 16,
    "lenType": 16,
    "lenVar": 40
   },
   "kernels_config": {
    "python": {
     "delete_cmd_postfix": "",
     "delete_cmd_prefix": "del ",
     "library": "var_list.py",
     "varRefreshCmd": "print(var_dic_list())"
    },
    "r": {
     "delete_cmd_postfix": ") ",
     "delete_cmd_prefix": "rm(",
     "library": "var_list.r",
     "varRefreshCmd": "cat(var_dic_list()) "
    }
   },
   "oldHeight": 464.25272130966187,
   "position": {
    "height": "487.5px",
    "left": "1901.9095458984375px",
    "right": "20px",
    "top": "232.4676971435547px",
    "width": "704.265625px"
   },
   "types_to_exclude": [
    "module",
    "function",
    "builtin_function_or_method",
    "instance",
    "_Feature"
   ],
   "varInspector_section_display": "block",
   "window_display": false
  }
 },
 "nbformat": 4,
 "nbformat_minor": 4
}
